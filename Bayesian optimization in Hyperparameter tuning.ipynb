{
 "cells": [
  {
   "cell_type": "markdown",
   "id": "1a1fc22b-09be-4ebb-8538-786b0bbdf3e6",
   "metadata": {},
   "source": [
    "# Import libraries"
   ]
  },
  {
   "cell_type": "code",
   "execution_count": 37,
   "id": "88d5cb6d-6889-446e-8a33-6ec8a28be1af",
   "metadata": {},
   "outputs": [],
   "source": [
    "import pandas as pd\n",
    "import numpy as np\n",
    "import time\n",
    "from sklearn.datasets import fetch_california_housing\n",
    "from sklearn.model_selection import train_test_split, GridSearchCV, RandomizedSearchCV, cross_val_score\n",
    "from sklearn.ensemble import RandomForestRegressor\n",
    "from sklearn.metrics import mean_squared_error\n",
    "from sklearn.preprocessing import StandardScaler\n",
    "from bayes_opt import BayesianOptimization\n",
    "import logging\n",
    "import matplotlib.pyplot as plt\n",
    "from scipy.stats import norm\n",
    "import random"
   ]
  },
  {
   "cell_type": "markdown",
   "id": "3404e09d-7fba-470e-861d-137a4c2095e7",
   "metadata": {},
   "source": [
    "# Setup logging"
   ]
  },
  {
   "cell_type": "code",
   "execution_count": 3,
   "id": "475d7d59-ecb1-4160-8d26-848255d549fb",
   "metadata": {},
   "outputs": [],
   "source": [
    "logging.basicConfig(level=logging.INFO)"
   ]
  },
  {
   "cell_type": "markdown",
   "id": "af6a690d-f2dc-44f2-bdc7-0bb4cb7675aa",
   "metadata": {},
   "source": [
    "# Load and preprocess the dataset"
   ]
  },
  {
   "cell_type": "code",
   "execution_count": 5,
   "id": "8833070f-c61c-450a-9abe-5a596df9d54b",
   "metadata": {},
   "outputs": [],
   "source": [
    "data = fetch_california_housing()\n",
    "X = pd.DataFrame(data.data, columns=data.feature_names)\n",
    "y = pd.Series(data.target)"
   ]
  },
  {
   "cell_type": "code",
   "execution_count": 7,
   "id": "8eab3295-8b4c-499b-a00b-b0df09595fdc",
   "metadata": {},
   "outputs": [
    {
     "data": {
      "text/html": [
       "<div>\n",
       "<style scoped>\n",
       "    .dataframe tbody tr th:only-of-type {\n",
       "        vertical-align: middle;\n",
       "    }\n",
       "\n",
       "    .dataframe tbody tr th {\n",
       "        vertical-align: top;\n",
       "    }\n",
       "\n",
       "    .dataframe thead th {\n",
       "        text-align: right;\n",
       "    }\n",
       "</style>\n",
       "<table border=\"1\" class=\"dataframe\">\n",
       "  <thead>\n",
       "    <tr style=\"text-align: right;\">\n",
       "      <th></th>\n",
       "      <th>MedInc</th>\n",
       "      <th>HouseAge</th>\n",
       "      <th>AveRooms</th>\n",
       "      <th>AveBedrms</th>\n",
       "      <th>Population</th>\n",
       "      <th>AveOccup</th>\n",
       "      <th>Latitude</th>\n",
       "      <th>Longitude</th>\n",
       "    </tr>\n",
       "  </thead>\n",
       "  <tbody>\n",
       "    <tr>\n",
       "      <th>0</th>\n",
       "      <td>8.3252</td>\n",
       "      <td>41.0</td>\n",
       "      <td>6.984127</td>\n",
       "      <td>1.023810</td>\n",
       "      <td>322.0</td>\n",
       "      <td>2.555556</td>\n",
       "      <td>37.88</td>\n",
       "      <td>-122.23</td>\n",
       "    </tr>\n",
       "    <tr>\n",
       "      <th>1</th>\n",
       "      <td>8.3014</td>\n",
       "      <td>21.0</td>\n",
       "      <td>6.238137</td>\n",
       "      <td>0.971880</td>\n",
       "      <td>2401.0</td>\n",
       "      <td>2.109842</td>\n",
       "      <td>37.86</td>\n",
       "      <td>-122.22</td>\n",
       "    </tr>\n",
       "    <tr>\n",
       "      <th>2</th>\n",
       "      <td>7.2574</td>\n",
       "      <td>52.0</td>\n",
       "      <td>8.288136</td>\n",
       "      <td>1.073446</td>\n",
       "      <td>496.0</td>\n",
       "      <td>2.802260</td>\n",
       "      <td>37.85</td>\n",
       "      <td>-122.24</td>\n",
       "    </tr>\n",
       "    <tr>\n",
       "      <th>3</th>\n",
       "      <td>5.6431</td>\n",
       "      <td>52.0</td>\n",
       "      <td>5.817352</td>\n",
       "      <td>1.073059</td>\n",
       "      <td>558.0</td>\n",
       "      <td>2.547945</td>\n",
       "      <td>37.85</td>\n",
       "      <td>-122.25</td>\n",
       "    </tr>\n",
       "    <tr>\n",
       "      <th>4</th>\n",
       "      <td>3.8462</td>\n",
       "      <td>52.0</td>\n",
       "      <td>6.281853</td>\n",
       "      <td>1.081081</td>\n",
       "      <td>565.0</td>\n",
       "      <td>2.181467</td>\n",
       "      <td>37.85</td>\n",
       "      <td>-122.25</td>\n",
       "    </tr>\n",
       "    <tr>\n",
       "      <th>...</th>\n",
       "      <td>...</td>\n",
       "      <td>...</td>\n",
       "      <td>...</td>\n",
       "      <td>...</td>\n",
       "      <td>...</td>\n",
       "      <td>...</td>\n",
       "      <td>...</td>\n",
       "      <td>...</td>\n",
       "    </tr>\n",
       "    <tr>\n",
       "      <th>20635</th>\n",
       "      <td>1.5603</td>\n",
       "      <td>25.0</td>\n",
       "      <td>5.045455</td>\n",
       "      <td>1.133333</td>\n",
       "      <td>845.0</td>\n",
       "      <td>2.560606</td>\n",
       "      <td>39.48</td>\n",
       "      <td>-121.09</td>\n",
       "    </tr>\n",
       "    <tr>\n",
       "      <th>20636</th>\n",
       "      <td>2.5568</td>\n",
       "      <td>18.0</td>\n",
       "      <td>6.114035</td>\n",
       "      <td>1.315789</td>\n",
       "      <td>356.0</td>\n",
       "      <td>3.122807</td>\n",
       "      <td>39.49</td>\n",
       "      <td>-121.21</td>\n",
       "    </tr>\n",
       "    <tr>\n",
       "      <th>20637</th>\n",
       "      <td>1.7000</td>\n",
       "      <td>17.0</td>\n",
       "      <td>5.205543</td>\n",
       "      <td>1.120092</td>\n",
       "      <td>1007.0</td>\n",
       "      <td>2.325635</td>\n",
       "      <td>39.43</td>\n",
       "      <td>-121.22</td>\n",
       "    </tr>\n",
       "    <tr>\n",
       "      <th>20638</th>\n",
       "      <td>1.8672</td>\n",
       "      <td>18.0</td>\n",
       "      <td>5.329513</td>\n",
       "      <td>1.171920</td>\n",
       "      <td>741.0</td>\n",
       "      <td>2.123209</td>\n",
       "      <td>39.43</td>\n",
       "      <td>-121.32</td>\n",
       "    </tr>\n",
       "    <tr>\n",
       "      <th>20639</th>\n",
       "      <td>2.3886</td>\n",
       "      <td>16.0</td>\n",
       "      <td>5.254717</td>\n",
       "      <td>1.162264</td>\n",
       "      <td>1387.0</td>\n",
       "      <td>2.616981</td>\n",
       "      <td>39.37</td>\n",
       "      <td>-121.24</td>\n",
       "    </tr>\n",
       "  </tbody>\n",
       "</table>\n",
       "<p>20640 rows × 8 columns</p>\n",
       "</div>"
      ],
      "text/plain": [
       "       MedInc  HouseAge  AveRooms  AveBedrms  Population  AveOccup  Latitude  \\\n",
       "0      8.3252      41.0  6.984127   1.023810       322.0  2.555556     37.88   \n",
       "1      8.3014      21.0  6.238137   0.971880      2401.0  2.109842     37.86   \n",
       "2      7.2574      52.0  8.288136   1.073446       496.0  2.802260     37.85   \n",
       "3      5.6431      52.0  5.817352   1.073059       558.0  2.547945     37.85   \n",
       "4      3.8462      52.0  6.281853   1.081081       565.0  2.181467     37.85   \n",
       "...       ...       ...       ...        ...         ...       ...       ...   \n",
       "20635  1.5603      25.0  5.045455   1.133333       845.0  2.560606     39.48   \n",
       "20636  2.5568      18.0  6.114035   1.315789       356.0  3.122807     39.49   \n",
       "20637  1.7000      17.0  5.205543   1.120092      1007.0  2.325635     39.43   \n",
       "20638  1.8672      18.0  5.329513   1.171920       741.0  2.123209     39.43   \n",
       "20639  2.3886      16.0  5.254717   1.162264      1387.0  2.616981     39.37   \n",
       "\n",
       "       Longitude  \n",
       "0        -122.23  \n",
       "1        -122.22  \n",
       "2        -122.24  \n",
       "3        -122.25  \n",
       "4        -122.25  \n",
       "...          ...  \n",
       "20635    -121.09  \n",
       "20636    -121.21  \n",
       "20637    -121.22  \n",
       "20638    -121.32  \n",
       "20639    -121.24  \n",
       "\n",
       "[20640 rows x 8 columns]"
      ]
     },
     "execution_count": 7,
     "metadata": {},
     "output_type": "execute_result"
    }
   ],
   "source": [
    "X"
   ]
  },
  {
   "cell_type": "code",
   "execution_count": 9,
   "id": "0c18f9ce-025d-4b7c-b4a5-ebb56b58b076",
   "metadata": {},
   "outputs": [
    {
     "data": {
      "text/plain": [
       "0        4.526\n",
       "1        3.585\n",
       "2        3.521\n",
       "3        3.413\n",
       "4        3.422\n",
       "         ...  \n",
       "20635    0.781\n",
       "20636    0.771\n",
       "20637    0.923\n",
       "20638    0.847\n",
       "20639    0.894\n",
       "Length: 20640, dtype: float64"
      ]
     },
     "execution_count": 9,
     "metadata": {},
     "output_type": "execute_result"
    }
   ],
   "source": [
    "y"
   ]
  },
  {
   "cell_type": "code",
   "execution_count": 13,
   "id": "37e4878e-7e2e-4025-a8cb-57025a44ed3a",
   "metadata": {},
   "outputs": [],
   "source": [
    "X_train, X_test, y_train, y_test = train_test_split(X, y, test_size=0.2, random_state=42)"
   ]
  },
  {
   "cell_type": "markdown",
   "id": "a17a8394-2a33-48f1-af5f-e57a520dfbfd",
   "metadata": {},
   "source": [
    "# Bayesian Optimization"
   ]
  },
  {
   "cell_type": "markdown",
   "id": "a6cee36e-2303-4678-bf07-270c00bb48e0",
   "metadata": {},
   "source": [
    "## Bayesian Optimization Function"
   ]
  },
  {
   "cell_type": "code",
   "execution_count": 15,
   "id": "7ae14743-cb26-47f2-ab1a-c8fc4b0823ea",
   "metadata": {},
   "outputs": [],
   "source": [
    "def rf_evaluate(n_estimators, max_depth, min_samples_split):\n",
    "    model = RandomForestRegressor(n_estimators=int(n_estimators), \n",
    "                                   max_depth=int(max_depth), \n",
    "                                   min_samples_split=int(min_samples_split),\n",
    "                                   random_state=42)\n",
    "    model.fit(X_train, y_train)\n",
    "    predictions = model.predict(X_test)\n",
    "    mse = mean_squared_error(y_test, predictions)\n",
    "    logging.info(f\"Evaluating: n_estimators={n_estimators}, max_depth={max_depth}, \"\n",
    "                 f\"min_samples_split={min_samples_split}, MSE={mse}\")\n",
    "    return -mse  # Negative because we want to maximize the function"
   ]
  },
  {
   "cell_type": "markdown",
   "id": "b2e77211-5de8-46c4-8300-2e66636421da",
   "metadata": {},
   "source": [
    "## Initial Bounds for Hyperparameters"
   ]
  },
  {
   "cell_type": "code",
   "execution_count": 17,
   "id": "9691d8d1-f06c-4dd3-a007-4df72888a90d",
   "metadata": {},
   "outputs": [],
   "source": [
    "pbounds = {\n",
    "    'n_estimators': (10, 200),\n",
    "    'max_depth': (5, 50),\n",
    "    'min_samples_split': (2, 20)\n",
    "}"
   ]
  },
  {
   "cell_type": "markdown",
   "id": "4500f1db-1a20-4ea0-a495-c21dfedb74d7",
   "metadata": {},
   "source": [
    "## Bayesian Optimization Setup"
   ]
  },
  {
   "cell_type": "code",
   "execution_count": 19,
   "id": "87fb42d3-a75b-42ee-8bee-2107ab82ff94",
   "metadata": {},
   "outputs": [],
   "source": [
    "optimizer = BayesianOptimization(\n",
    "    f=rf_evaluate,\n",
    "    pbounds=pbounds,\n",
    "    random_state=42,\n",
    ")"
   ]
  },
  {
   "cell_type": "markdown",
   "id": "6acc4d83-1178-4a7c-8fbc-6c3adcde2a82",
   "metadata": {},
   "source": [
    "## Timing Bayesian Optimization"
   ]
  },
  {
   "cell_type": "code",
   "execution_count": 21,
   "id": "2a87dcfd-d0d6-411c-b917-3e13d0b25566",
   "metadata": {},
   "outputs": [
    {
     "name": "stdout",
     "output_type": "stream",
     "text": [
      "|   iter    |  target   | max_depth | min_sa... | n_esti... |\n",
      "-------------------------------------------------------------\n"
     ]
    },
    {
     "name": "stderr",
     "output_type": "stream",
     "text": [
      "INFO:root:Evaluating: n_estimators=149.07884894416696, max_depth=21.854305348131312, min_samples_split=19.11285751537849, MSE=0.2653170189861679\n"
     ]
    },
    {
     "name": "stdout",
     "output_type": "stream",
     "text": [
      "| \u001b[0m1        \u001b[0m | \u001b[0m-0.2653  \u001b[0m | \u001b[0m21.85    \u001b[0m | \u001b[0m19.11    \u001b[0m | \u001b[0m149.1    \u001b[0m |\n"
     ]
    },
    {
     "name": "stderr",
     "output_type": "stream",
     "text": [
      "INFO:root:Evaluating: n_estimators=39.6389588638785, max_depth=31.93963178886665, min_samples_split=4.808335527963857, MSE=0.25862721680773076\n"
     ]
    },
    {
     "name": "stdout",
     "output_type": "stream",
     "text": [
      "| \u001b[95m2        \u001b[0m | \u001b[95m-0.2586  \u001b[0m | \u001b[95m31.94    \u001b[0m | \u001b[95m4.808    \u001b[0m | \u001b[95m39.64    \u001b[0m |\n"
     ]
    },
    {
     "name": "stderr",
     "output_type": "stream",
     "text": [
      "INFO:root:Evaluating: n_estimators=124.21185223120968, max_depth=7.613762547568976, min_samples_split=17.591170623948834, MSE=0.3777660993037774\n"
     ]
    },
    {
     "name": "stdout",
     "output_type": "stream",
     "text": [
      "| \u001b[0m3        \u001b[0m | \u001b[0m-0.3778  \u001b[0m | \u001b[0m7.614    \u001b[0m | \u001b[0m17.59    \u001b[0m | \u001b[0m124.2    \u001b[0m |\n"
     ]
    },
    {
     "name": "stderr",
     "output_type": "stream",
     "text": [
      "INFO:root:Evaluating: n_estimators=194.2828719107789, max_depth=36.86326600082205, min_samples_split=2.370520897324444, MSE=0.2542835557228826\n"
     ]
    },
    {
     "name": "stdout",
     "output_type": "stream",
     "text": [
      "| \u001b[95m4        \u001b[0m | \u001b[95m-0.2543  \u001b[0m | \u001b[95m36.86    \u001b[0m | \u001b[95m2.371    \u001b[0m | \u001b[95m194.3    \u001b[0m |\n"
     ]
    },
    {
     "name": "stderr",
     "output_type": "stream",
     "text": [
      "INFO:root:Evaluating: n_estimators=44.54674376934912, max_depth=42.45991883601898, min_samples_split=5.822103992208971, MSE=0.2582176922101155\n"
     ]
    },
    {
     "name": "stdout",
     "output_type": "stream",
     "text": [
      "| \u001b[0m5        \u001b[0m | \u001b[0m-0.2582  \u001b[0m | \u001b[0m42.46    \u001b[0m | \u001b[0m5.822    \u001b[0m | \u001b[0m44.55    \u001b[0m |\n"
     ]
    },
    {
     "name": "stderr",
     "output_type": "stream",
     "text": [
      "INFO:root:Evaluating: n_estimators=109.70372201012519, max_depth=13.253202943404522, min_samples_split=7.476360373271679, MSE=0.2679180306940206\n"
     ]
    },
    {
     "name": "stdout",
     "output_type": "stream",
     "text": [
      "| \u001b[0m6        \u001b[0m | \u001b[0m-0.2679  \u001b[0m | \u001b[0m13.25    \u001b[0m | \u001b[0m7.476    \u001b[0m | \u001b[0m109.7    \u001b[0m |\n"
     ]
    },
    {
     "name": "stderr",
     "output_type": "stream",
     "text": [
      "INFO:root:Evaluating: n_estimators=126.2520499972521, max_depth=24.43752583889521, min_samples_split=7.242124523564755, MSE=0.2563704618246912\n"
     ]
    },
    {
     "name": "stdout",
     "output_type": "stream",
     "text": [
      "| \u001b[0m7        \u001b[0m | \u001b[0m-0.2564  \u001b[0m | \u001b[0m24.44    \u001b[0m | \u001b[0m7.242    \u001b[0m | \u001b[0m126.3    \u001b[0m |\n"
     ]
    },
    {
     "name": "stderr",
     "output_type": "stream",
     "text": [
      "INFO:root:Evaluating: n_estimators=79.60875022580143, max_depth=11.277223729341882, min_samples_split=7.258603673633926, MSE=0.2832285995097396\n"
     ]
    },
    {
     "name": "stdout",
     "output_type": "stream",
     "text": [
      "| \u001b[0m8        \u001b[0m | \u001b[0m-0.2832  \u001b[0m | \u001b[0m11.28    \u001b[0m | \u001b[0m7.259    \u001b[0m | \u001b[0m79.61    \u001b[0m |\n"
     ]
    },
    {
     "name": "stderr",
     "output_type": "stream",
     "text": [
      "INFO:root:Evaluating: n_estimators=47.93801861008835, max_depth=25.523149289766618, min_samples_split=16.133167305074245, MSE=0.264727660552396\n"
     ]
    },
    {
     "name": "stdout",
     "output_type": "stream",
     "text": [
      "| \u001b[0m9        \u001b[0m | \u001b[0m-0.2647  \u001b[0m | \u001b[0m25.52    \u001b[0m | \u001b[0m16.13    \u001b[0m | \u001b[0m47.94    \u001b[0m |\n"
     ]
    },
    {
     "name": "stderr",
     "output_type": "stream",
     "text": [
      "INFO:root:Evaluating: n_estimators=18.825578416799566, max_depth=28.140549728612523, min_samples_split=12.663462239516765, MSE=0.2654873875888672\n"
     ]
    },
    {
     "name": "stdout",
     "output_type": "stream",
     "text": [
      "| \u001b[0m10       \u001b[0m | \u001b[0m-0.2655  \u001b[0m | \u001b[0m28.14    \u001b[0m | \u001b[0m12.66    \u001b[0m | \u001b[0m18.83    \u001b[0m |\n"
     ]
    },
    {
     "name": "stderr",
     "output_type": "stream",
     "text": [
      "INFO:root:Evaluating: n_estimators=43.55100754779929, max_depth=35.87825711439075, min_samples_split=13.121245177315057, MSE=0.2621346690441155\n"
     ]
    },
    {
     "name": "stdout",
     "output_type": "stream",
     "text": [
      "| \u001b[0m11       \u001b[0m | \u001b[0m-0.2621  \u001b[0m | \u001b[0m35.88    \u001b[0m | \u001b[0m13.12    \u001b[0m | \u001b[0m43.55    \u001b[0m |\n"
     ]
    },
    {
     "name": "stderr",
     "output_type": "stream",
     "text": [
      "INFO:root:Evaluating: n_estimators=124.7046853532823, max_depth=25.373381667788035, min_samples_split=6.999499758985157, MSE=0.25560079219992315\n"
     ]
    },
    {
     "name": "stdout",
     "output_type": "stream",
     "text": [
      "| \u001b[0m12       \u001b[0m | \u001b[0m-0.2556  \u001b[0m | \u001b[0m25.37    \u001b[0m | \u001b[0m6.999    \u001b[0m | \u001b[0m124.7    \u001b[0m |\n"
     ]
    },
    {
     "name": "stderr",
     "output_type": "stream",
     "text": [
      "INFO:root:Evaluating: n_estimators=135.93538133393065, max_depth=36.245760762662115, min_samples_split=2.0, MSE=0.2551687098680366\n"
     ]
    },
    {
     "name": "stdout",
     "output_type": "stream",
     "text": [
      "| \u001b[0m13       \u001b[0m | \u001b[0m-0.2552  \u001b[0m | \u001b[0m36.25    \u001b[0m | \u001b[0m2.0      \u001b[0m | \u001b[0m135.9    \u001b[0m |\n"
     ]
    },
    {
     "name": "stderr",
     "output_type": "stream",
     "text": [
      "INFO:root:Evaluating: n_estimators=174.77538395953735, max_depth=33.50837921692251, min_samples_split=6.6599698037292105, MSE=0.25539929412595386\n"
     ]
    },
    {
     "name": "stdout",
     "output_type": "stream",
     "text": [
      "| \u001b[0m14       \u001b[0m | \u001b[0m-0.2554  \u001b[0m | \u001b[0m33.51    \u001b[0m | \u001b[0m6.66     \u001b[0m | \u001b[0m174.8    \u001b[0m |\n"
     ]
    },
    {
     "name": "stderr",
     "output_type": "stream",
     "text": [
      "INFO:root:Evaluating: n_estimators=189.75123619604935, max_depth=22.054248663178242, min_samples_split=14.561269686861054, MSE=0.2610863371805434\n"
     ]
    },
    {
     "name": "stdout",
     "output_type": "stream",
     "text": [
      "| \u001b[0m15       \u001b[0m | \u001b[0m-0.2611  \u001b[0m | \u001b[0m22.05    \u001b[0m | \u001b[0m14.56    \u001b[0m | \u001b[0m189.8    \u001b[0m |\n"
     ]
    },
    {
     "name": "stderr",
     "output_type": "stream",
     "text": [
      "INFO:root:Evaluating: n_estimators=184.78768107491476, max_depth=45.72088392603302, min_samples_split=19.079452526902916, MSE=0.2657863843874697\n"
     ]
    },
    {
     "name": "stdout",
     "output_type": "stream",
     "text": [
      "| \u001b[0m16       \u001b[0m | \u001b[0m-0.2658  \u001b[0m | \u001b[0m45.72    \u001b[0m | \u001b[0m19.08    \u001b[0m | \u001b[0m184.8    \u001b[0m |\n"
     ]
    },
    {
     "name": "stderr",
     "output_type": "stream",
     "text": [
      "INFO:root:Evaluating: n_estimators=155.7122378267722, max_depth=41.5776198707209, min_samples_split=9.308222961479338, MSE=0.2570612587808561\n"
     ]
    },
    {
     "name": "stdout",
     "output_type": "stream",
     "text": [
      "| \u001b[0m17       \u001b[0m | \u001b[0m-0.2571  \u001b[0m | \u001b[0m41.58    \u001b[0m | \u001b[0m9.308    \u001b[0m | \u001b[0m155.7    \u001b[0m |\n"
     ]
    },
    {
     "name": "stderr",
     "output_type": "stream",
     "text": [
      "INFO:root:Evaluating: n_estimators=135.13397210567098, max_depth=44.071629287193815, min_samples_split=20.0, MSE=0.2661588646186233\n"
     ]
    },
    {
     "name": "stdout",
     "output_type": "stream",
     "text": [
      "| \u001b[0m18       \u001b[0m | \u001b[0m-0.2662  \u001b[0m | \u001b[0m44.07    \u001b[0m | \u001b[0m20.0     \u001b[0m | \u001b[0m135.1    \u001b[0m |\n"
     ]
    },
    {
     "name": "stderr",
     "output_type": "stream",
     "text": [
      "INFO:root:Evaluating: n_estimators=103.88054738343736, max_depth=32.455311889696645, min_samples_split=2.0, MSE=0.25557993262523654\n"
     ]
    },
    {
     "name": "stdout",
     "output_type": "stream",
     "text": [
      "| \u001b[0m19       \u001b[0m | \u001b[0m-0.2556  \u001b[0m | \u001b[0m32.46    \u001b[0m | \u001b[0m2.0      \u001b[0m | \u001b[0m103.9    \u001b[0m |\n"
     ]
    },
    {
     "name": "stderr",
     "output_type": "stream",
     "text": [
      "INFO:root:Evaluating: n_estimators=117.11750150473571, max_depth=48.018499736444085, min_samples_split=2.0, MSE=0.25538366985927363\n"
     ]
    },
    {
     "name": "stdout",
     "output_type": "stream",
     "text": [
      "| \u001b[0m20       \u001b[0m | \u001b[0m-0.2554  \u001b[0m | \u001b[0m48.02    \u001b[0m | \u001b[0m2.0      \u001b[0m | \u001b[0m117.1    \u001b[0m |\n"
     ]
    },
    {
     "name": "stderr",
     "output_type": "stream",
     "text": [
      "INFO:root:Evaluating: n_estimators=100.88461614244407, max_depth=49.46125012219824, min_samples_split=16.251889866926646, MSE=0.2635490416401009\n"
     ]
    },
    {
     "name": "stdout",
     "output_type": "stream",
     "text": [
      "| \u001b[0m21       \u001b[0m | \u001b[0m-0.2635  \u001b[0m | \u001b[0m49.46    \u001b[0m | \u001b[0m16.25    \u001b[0m | \u001b[0m100.9    \u001b[0m |\n"
     ]
    },
    {
     "name": "stderr",
     "output_type": "stream",
     "text": [
      "INFO:root:Evaluating: n_estimators=160.47345697933952, max_depth=21.84196079818129, min_samples_split=2.0, MSE=0.2552771398465008\n"
     ]
    },
    {
     "name": "stdout",
     "output_type": "stream",
     "text": [
      "| \u001b[0m22       \u001b[0m | \u001b[0m-0.2553  \u001b[0m | \u001b[0m21.84    \u001b[0m | \u001b[0m2.0      \u001b[0m | \u001b[0m160.5    \u001b[0m |\n"
     ]
    },
    {
     "name": "stderr",
     "output_type": "stream",
     "text": [
      "INFO:root:Evaluating: n_estimators=174.9590766301885, max_depth=8.460419372799848, min_samples_split=2.7466734712157463, MSE=0.34182821019409587\n"
     ]
    },
    {
     "name": "stdout",
     "output_type": "stream",
     "text": [
      "| \u001b[0m23       \u001b[0m | \u001b[0m-0.3418  \u001b[0m | \u001b[0m8.46     \u001b[0m | \u001b[0m2.747    \u001b[0m | \u001b[0m175.0    \u001b[0m |\n"
     ]
    },
    {
     "name": "stderr",
     "output_type": "stream",
     "text": [
      "INFO:root:Evaluating: n_estimators=146.94471934539504, max_depth=25.857362576476618, min_samples_split=2.0, MSE=0.2557898170068778\n"
     ]
    },
    {
     "name": "stdout",
     "output_type": "stream",
     "text": [
      "| \u001b[0m24       \u001b[0m | \u001b[0m-0.2558  \u001b[0m | \u001b[0m25.86    \u001b[0m | \u001b[0m2.0      \u001b[0m | \u001b[0m146.9    \u001b[0m |\n"
     ]
    },
    {
     "name": "stderr",
     "output_type": "stream",
     "text": [
      "INFO:root:Evaluating: n_estimators=172.44270183082645, max_depth=50.0, min_samples_split=2.0, MSE=0.25456190076325874\n"
     ]
    },
    {
     "name": "stdout",
     "output_type": "stream",
     "text": [
      "| \u001b[0m25       \u001b[0m | \u001b[0m-0.2546  \u001b[0m | \u001b[0m50.0     \u001b[0m | \u001b[0m2.0      \u001b[0m | \u001b[0m172.4    \u001b[0m |\n"
     ]
    },
    {
     "name": "stderr",
     "output_type": "stream",
     "text": [
      "INFO:root:Evaluating: n_estimators=24.288663589026406, max_depth=50.0, min_samples_split=2.0, MSE=0.2636284029182621\n"
     ]
    },
    {
     "name": "stdout",
     "output_type": "stream",
     "text": [
      "| \u001b[0m26       \u001b[0m | \u001b[0m-0.2636  \u001b[0m | \u001b[0m50.0     \u001b[0m | \u001b[0m2.0      \u001b[0m | \u001b[0m24.29    \u001b[0m |\n"
     ]
    },
    {
     "name": "stderr",
     "output_type": "stream",
     "text": [
      "INFO:root:Evaluating: n_estimators=68.35919524177125, max_depth=50.0, min_samples_split=2.0, MSE=0.2577586891712771\n"
     ]
    },
    {
     "name": "stdout",
     "output_type": "stream",
     "text": [
      "| \u001b[0m27       \u001b[0m | \u001b[0m-0.2578  \u001b[0m | \u001b[0m50.0     \u001b[0m | \u001b[0m2.0      \u001b[0m | \u001b[0m68.36    \u001b[0m |\n"
     ]
    },
    {
     "name": "stderr",
     "output_type": "stream",
     "text": [
      "INFO:root:Evaluating: n_estimators=73.98134612487551, max_depth=45.34568134886977, min_samples_split=19.69798319195905, MSE=0.2669677836249065\n"
     ]
    },
    {
     "name": "stdout",
     "output_type": "stream",
     "text": [
      "| \u001b[0m28       \u001b[0m | \u001b[0m-0.267   \u001b[0m | \u001b[0m45.35    \u001b[0m | \u001b[0m19.7     \u001b[0m | \u001b[0m73.98    \u001b[0m |\n"
     ]
    },
    {
     "name": "stderr",
     "output_type": "stream",
     "text": [
      "INFO:root:Evaluating: n_estimators=34.097439989661765, max_depth=5.5013046193337525, min_samples_split=2.598790282387597, MSE=0.4633917227313939\n"
     ]
    },
    {
     "name": "stdout",
     "output_type": "stream",
     "text": [
      "| \u001b[0m29       \u001b[0m | \u001b[0m-0.4634  \u001b[0m | \u001b[0m5.501    \u001b[0m | \u001b[0m2.599    \u001b[0m | \u001b[0m34.1     \u001b[0m |\n"
     ]
    },
    {
     "name": "stderr",
     "output_type": "stream",
     "text": [
      "INFO:root:Evaluating: n_estimators=10.0, max_depth=50.0, min_samples_split=20.0, MSE=0.28257742250561363\n"
     ]
    },
    {
     "name": "stdout",
     "output_type": "stream",
     "text": [
      "| \u001b[0m30       \u001b[0m | \u001b[0m-0.2826  \u001b[0m | \u001b[0m50.0     \u001b[0m | \u001b[0m20.0     \u001b[0m | \u001b[0m10.0     \u001b[0m |\n",
      "=============================================================\n"
     ]
    }
   ],
   "source": [
    "start_time = time.time()\n",
    "optimizer.maximize(init_points=10, n_iter=20)\n",
    "end_time = time.time()\n",
    "bayes_time = end_time - start_time"
   ]
  },
  {
   "cell_type": "markdown",
   "id": "ce768c75-fda7-4d5c-8fd0-94470f52a429",
   "metadata": {},
   "source": [
    "## Best Parameters from Bayesian Optimization"
   ]
  },
  {
   "cell_type": "code",
   "execution_count": 23,
   "id": "065cc382-9839-49c8-9bee-84419b9be966",
   "metadata": {},
   "outputs": [
    {
     "name": "stderr",
     "output_type": "stream",
     "text": [
      "INFO:root:Best parameters from Bayesian Optimization: {'max_depth': 36, 'min_samples_split': 2, 'n_estimators': 194}\n"
     ]
    }
   ],
   "source": [
    "best_params = optimizer.max['params']\n",
    "best_params['n_estimators'] = int(best_params['n_estimators'])  # Convert to int\n",
    "best_params['max_depth'] = int(best_params['max_depth'])  # Convert to int\n",
    "best_params['min_samples_split'] = int(best_params['min_samples_split'])  # Convert to int\n",
    "logging.info(f\"Best parameters from Bayesian Optimization: {best_params}\")"
   ]
  },
  {
   "cell_type": "markdown",
   "id": "f4f82ec1-f39b-4df5-9a6c-ec0bfb9b65cc",
   "metadata": {},
   "source": [
    "## Final Model Training"
   ]
  },
  {
   "cell_type": "code",
   "execution_count": 25,
   "id": "7f77493c-d415-42db-b904-19969cfd566e",
   "metadata": {},
   "outputs": [
    {
     "data": {
      "text/html": [
       "<style>#sk-container-id-1 {color: black;}#sk-container-id-1 pre{padding: 0;}#sk-container-id-1 div.sk-toggleable {background-color: white;}#sk-container-id-1 label.sk-toggleable__label {cursor: pointer;display: block;width: 100%;margin-bottom: 0;padding: 0.3em;box-sizing: border-box;text-align: center;}#sk-container-id-1 label.sk-toggleable__label-arrow:before {content: \"▸\";float: left;margin-right: 0.25em;color: #696969;}#sk-container-id-1 label.sk-toggleable__label-arrow:hover:before {color: black;}#sk-container-id-1 div.sk-estimator:hover label.sk-toggleable__label-arrow:before {color: black;}#sk-container-id-1 div.sk-toggleable__content {max-height: 0;max-width: 0;overflow: hidden;text-align: left;background-color: #f0f8ff;}#sk-container-id-1 div.sk-toggleable__content pre {margin: 0.2em;color: black;border-radius: 0.25em;background-color: #f0f8ff;}#sk-container-id-1 input.sk-toggleable__control:checked~div.sk-toggleable__content {max-height: 200px;max-width: 100%;overflow: auto;}#sk-container-id-1 input.sk-toggleable__control:checked~label.sk-toggleable__label-arrow:before {content: \"▾\";}#sk-container-id-1 div.sk-estimator input.sk-toggleable__control:checked~label.sk-toggleable__label {background-color: #d4ebff;}#sk-container-id-1 div.sk-label input.sk-toggleable__control:checked~label.sk-toggleable__label {background-color: #d4ebff;}#sk-container-id-1 input.sk-hidden--visually {border: 0;clip: rect(1px 1px 1px 1px);clip: rect(1px, 1px, 1px, 1px);height: 1px;margin: -1px;overflow: hidden;padding: 0;position: absolute;width: 1px;}#sk-container-id-1 div.sk-estimator {font-family: monospace;background-color: #f0f8ff;border: 1px dotted black;border-radius: 0.25em;box-sizing: border-box;margin-bottom: 0.5em;}#sk-container-id-1 div.sk-estimator:hover {background-color: #d4ebff;}#sk-container-id-1 div.sk-parallel-item::after {content: \"\";width: 100%;border-bottom: 1px solid gray;flex-grow: 1;}#sk-container-id-1 div.sk-label:hover label.sk-toggleable__label {background-color: #d4ebff;}#sk-container-id-1 div.sk-serial::before {content: \"\";position: absolute;border-left: 1px solid gray;box-sizing: border-box;top: 0;bottom: 0;left: 50%;z-index: 0;}#sk-container-id-1 div.sk-serial {display: flex;flex-direction: column;align-items: center;background-color: white;padding-right: 0.2em;padding-left: 0.2em;position: relative;}#sk-container-id-1 div.sk-item {position: relative;z-index: 1;}#sk-container-id-1 div.sk-parallel {display: flex;align-items: stretch;justify-content: center;background-color: white;position: relative;}#sk-container-id-1 div.sk-item::before, #sk-container-id-1 div.sk-parallel-item::before {content: \"\";position: absolute;border-left: 1px solid gray;box-sizing: border-box;top: 0;bottom: 0;left: 50%;z-index: -1;}#sk-container-id-1 div.sk-parallel-item {display: flex;flex-direction: column;z-index: 1;position: relative;background-color: white;}#sk-container-id-1 div.sk-parallel-item:first-child::after {align-self: flex-end;width: 50%;}#sk-container-id-1 div.sk-parallel-item:last-child::after {align-self: flex-start;width: 50%;}#sk-container-id-1 div.sk-parallel-item:only-child::after {width: 0;}#sk-container-id-1 div.sk-dashed-wrapped {border: 1px dashed gray;margin: 0 0.4em 0.5em 0.4em;box-sizing: border-box;padding-bottom: 0.4em;background-color: white;}#sk-container-id-1 div.sk-label label {font-family: monospace;font-weight: bold;display: inline-block;line-height: 1.2em;}#sk-container-id-1 div.sk-label-container {text-align: center;}#sk-container-id-1 div.sk-container {/* jupyter's `normalize.less` sets `[hidden] { display: none; }` but bootstrap.min.css set `[hidden] { display: none !important; }` so we also need the `!important` here to be able to override the default hidden behavior on the sphinx rendered scikit-learn.org. See: https://github.com/scikit-learn/scikit-learn/issues/21755 */display: inline-block !important;position: relative;}#sk-container-id-1 div.sk-text-repr-fallback {display: none;}</style><div id=\"sk-container-id-1\" class=\"sk-top-container\"><div class=\"sk-text-repr-fallback\"><pre>RandomForestRegressor(max_depth=36, n_estimators=194)</pre><b>In a Jupyter environment, please rerun this cell to show the HTML representation or trust the notebook. <br />On GitHub, the HTML representation is unable to render, please try loading this page with nbviewer.org.</b></div><div class=\"sk-container\" hidden><div class=\"sk-item\"><div class=\"sk-estimator sk-toggleable\"><input class=\"sk-toggleable__control sk-hidden--visually\" id=\"sk-estimator-id-1\" type=\"checkbox\" checked><label for=\"sk-estimator-id-1\" class=\"sk-toggleable__label sk-toggleable__label-arrow\">RandomForestRegressor</label><div class=\"sk-toggleable__content\"><pre>RandomForestRegressor(max_depth=36, n_estimators=194)</pre></div></div></div></div></div>"
      ],
      "text/plain": [
       "RandomForestRegressor(max_depth=36, n_estimators=194)"
      ]
     },
     "execution_count": 25,
     "metadata": {},
     "output_type": "execute_result"
    }
   ],
   "source": [
    "final_model = RandomForestRegressor(**best_params)\n",
    "final_model.fit(X_train, y_train)"
   ]
  },
  {
   "cell_type": "markdown",
   "id": "6a771e66-625f-47d7-83f5-a4878d7afecb",
   "metadata": {},
   "source": [
    "## Model Evaluation"
   ]
  },
  {
   "cell_type": "code",
   "execution_count": 27,
   "id": "3510a7f6-69c8-4a13-a078-df7b17dcc7b4",
   "metadata": {},
   "outputs": [
    {
     "name": "stderr",
     "output_type": "stream",
     "text": [
      "INFO:root:Final MSE (Bayesian Optimization): 0.25217320809058724\n"
     ]
    }
   ],
   "source": [
    "final_predictions = final_model.predict(X_test)\n",
    "final_mse_bayes = mean_squared_error(y_test, final_predictions)\n",
    "logging.info(f'Final MSE (Bayesian Optimization): {final_mse_bayes}')"
   ]
  },
  {
   "cell_type": "markdown",
   "id": "584ac898-8a79-4cfa-997d-1c7b643a94f9",
   "metadata": {},
   "source": [
    "# Random Search Hyperparameter Tuning (for comparison)"
   ]
  },
  {
   "cell_type": "code",
   "execution_count": 29,
   "id": "908634d8-c4c2-47d7-bcce-8e2643f1a021",
   "metadata": {},
   "outputs": [],
   "source": [
    "# Define parameter distributions for Randomized Search\n",
    "param_distributions = {\n",
    "    'n_estimators': [10, 50, 100, 150, 200],\n",
    "    'max_depth': [5, 10, 20, 30, 40, 50],\n",
    "    'min_samples_split': [2, 5, 10, 15, 20]\n",
    "}"
   ]
  },
  {
   "cell_type": "code",
   "execution_count": 39,
   "id": "1fdcd6a5-ee8e-4883-ae65-17d7e6a1734d",
   "metadata": {},
   "outputs": [],
   "source": [
    "# Initialize variables to track the best parameters and MSE\n",
    "best_mse_random = float('inf')\n",
    "best_params_random = None\n",
    "n_iter = 20  # Number of random configurations to sample\n",
    "\n",
    "# Start timing for Random Search\n",
    "start_time_random = time.time()\n",
    "\n",
    "# Iterate over random parameter combinations\n",
    "for _ in range(n_iter):\n",
    "    # Randomly sample a combination of parameters\n",
    "    params = {\n",
    "        'n_estimators': random.choice(param_distributions['n_estimators']),\n",
    "        'max_depth': random.choice(param_distributions['max_depth']),\n",
    "        'min_samples_split': random.choice(param_distributions['min_samples_split']),\n",
    "    }\n",
    "\n",
    "    # Train the model with the sampled parameters\n",
    "    model = RandomForestRegressor(**params, random_state=42)\n",
    "    model.fit(X_train, y_train)\n",
    "\n",
    "    # Predict and calculate MSE on the test set\n",
    "    predictions = model.predict(X_test)\n",
    "    mse = mean_squared_error(y_test, predictions)\n",
    "\n",
    "    # Track the best parameters and MSE\n",
    "    if mse < best_mse_random:\n",
    "        best_mse_random = mse\n",
    "        best_params_random = params\n",
    "\n",
    "# End timing for Random Search\n",
    "end_time_random = time.time()\n",
    "random_search_time = end_time_random - start_time_random"
   ]
  },
  {
   "cell_type": "code",
   "execution_count": 41,
   "id": "a1577ced-f548-4070-a1c7-4efe6678a2ac",
   "metadata": {},
   "outputs": [
    {
     "name": "stdout",
     "output_type": "stream",
     "text": [
      "Best Parameters (Random Search without CV): {'n_estimators': 150, 'max_depth': 40, 'min_samples_split': 2}\n",
      "Best MSE (Random Search without CV): 0.25466249140250824\n"
     ]
    }
   ],
   "source": [
    "# Display the results\n",
    "print(f\"Best Parameters (Random Search without CV): {best_params_random}\")\n",
    "print(f\"Best MSE (Random Search without CV): {best_mse_random}\")"
   ]
  },
  {
   "cell_type": "code",
   "execution_count": 43,
   "id": "992b5173-a3f0-43c1-ae9d-c04f2e92e38b",
   "metadata": {},
   "outputs": [
    {
     "name": "stderr",
     "output_type": "stream",
     "text": [
      "INFO:root:Best parameters from Random Search: {'n_estimators': 150, 'max_depth': 40, 'min_samples_split': 2}\n",
      "INFO:root:Final MSE (Random Search): 0.25466249140250824\n"
     ]
    }
   ],
   "source": [
    "logging.info(f\"Best parameters from Random Search: {best_params_random}\")\n",
    "logging.info(f'Final MSE (Random Search): {best_mse_random}')"
   ]
  },
  {
   "cell_type": "markdown",
   "id": "6aa849ff-becf-44cc-9c79-c82e4104063d",
   "metadata": {},
   "source": [
    "# Summary of Results"
   ]
  },
  {
   "cell_type": "code",
   "execution_count": 45,
   "id": "b68ca78b-bc37-40f9-85b4-35f9d59811d5",
   "metadata": {},
   "outputs": [
    {
     "name": "stderr",
     "output_type": "stream",
     "text": [
      "INFO:root:Bayesian Optimization Time: 889.99 seconds\n",
      "INFO:root:Random Search Time: 525.57 seconds\n"
     ]
    }
   ],
   "source": [
    "logging.info(f\"Bayesian Optimization Time: {bayes_time:.2f} seconds\")\n",
    "logging.info(f\"Random Search Time: {random_search_time:.2f} seconds\")"
   ]
  },
  {
   "cell_type": "code",
   "execution_count": 110,
   "id": "cc06a7c8-2da3-4525-97bf-7f8aa989c924",
   "metadata": {},
   "outputs": [
    {
     "name": "stderr",
     "output_type": "stream",
     "text": [
      "INFO:root:Grid Search Time (without CV): 5058.20 seconds\n"
     ]
    }
   ],
   "source": [
    "logging.info(f\"Grid Search Time (without CV): {grid_search_time:.2f} seconds\")"
   ]
  },
  {
   "cell_type": "code",
   "execution_count": null,
   "id": "49331021-7e11-402c-87ea-738807a3b0ba",
   "metadata": {},
   "outputs": [],
   "source": []
  },
  {
   "cell_type": "markdown",
   "id": "bc7a95fa-8da5-4417-95c9-6cda2fee5524",
   "metadata": {},
   "source": [
    "# Enhanced Approach of Bayesian Optimization"
   ]
  },
  {
   "cell_type": "markdown",
   "id": "8801d045-cf3c-456a-8a99-5ae6d55b680a",
   "metadata": {},
   "source": [
    "## Consistent cross-validation function"
   ]
  },
  {
   "cell_type": "code",
   "execution_count": 47,
   "id": "0aa83941-d5c9-4584-a58f-20c86daf402a",
   "metadata": {},
   "outputs": [],
   "source": [
    "def evaluate_model(model, X, y):\n",
    "    scores = cross_val_score(model, X, y, cv=5, scoring='neg_mean_squared_error')\n",
    "    return -scores.mean()"
   ]
  },
  {
   "cell_type": "markdown",
   "id": "38fad55e-68b9-4860-b3af-3fbbd23d6230",
   "metadata": {},
   "source": [
    "## Adaptive Acquisition Function"
   ]
  },
  {
   "cell_type": "code",
   "execution_count": 49,
   "id": "cecf1766-350a-4852-9535-314aab3b9676",
   "metadata": {},
   "outputs": [],
   "source": [
    "# Adaptive Acquisition Function: combines Expected Improvement (EI) and Probability of Improvement (PI)\n",
    "def adaptive_acquisition(X, model, best_y, alpha=0.5, xi=0.01):\n",
    "    mu, sigma = model.predict(X, return_std=True)\n",
    "    imp = mu - best_y - xi\n",
    "    Z = imp / sigma\n",
    "    ei = imp * norm.cdf(Z) + sigma * norm.pdf(Z)\n",
    "    pi = norm.cdf(Z)\n",
    "    \n",
    "    # Dynamically mix between EI and PI\n",
    "    adaptive_metric = (alpha * ei) + ((1 - alpha) * pi)\n",
    "    adaptive_metric[sigma == 0.0] = 0.0\n",
    "    return adaptive_metric"
   ]
  },
  {
   "cell_type": "markdown",
   "id": "9d3051f4-4427-493e-9913-01410c0d2453",
   "metadata": {},
   "source": [
    "## Bayesian Optimization function with adaptive bounds adjustment"
   ]
  },
  {
   "cell_type": "code",
   "execution_count": 51,
   "id": "d0890930-942d-4611-bf01-8f7f0572a3c3",
   "metadata": {},
   "outputs": [],
   "source": [
    "def rf_evaluate(n_estimators, max_depth, min_samples_split):\n",
    "    model = RandomForestRegressor(\n",
    "        n_estimators=int(n_estimators),\n",
    "        max_depth=int(max_depth),\n",
    "        min_samples_split=int(min_samples_split),\n",
    "        random_state=42\n",
    "    )\n",
    "    mse = evaluate_model(model, X_train, y_train)\n",
    "    logging.info(f\"Evaluating: n_estimators={n_estimators}, max_depth={max_depth}, min_samples_split={min_samples_split}, MSE={mse}\")\n",
    "    return -mse  # Negative because we want to maximize in Bayesian optimization"
   ]
  },
  {
   "cell_type": "markdown",
   "id": "f2d4be65-9ce2-4bf6-885d-e2115c09449d",
   "metadata": {},
   "source": [
    "## Initial parameter bounds for hyperparameters"
   ]
  },
  {
   "cell_type": "code",
   "execution_count": 53,
   "id": "caa1e618-7165-418b-9d83-01d86dfd947e",
   "metadata": {},
   "outputs": [],
   "source": [
    "pbounds = {\n",
    "    'n_estimators': (10, 200),\n",
    "    'max_depth': (5, 50),\n",
    "    'min_samples_split': (2, 20)\n",
    "}"
   ]
  },
  {
   "cell_type": "markdown",
   "id": "b45574bc-8cb1-44ad-b7e4-0e7385e12bc4",
   "metadata": {},
   "source": [
    "## Adaptive bounds adjustment based on confidence intervals"
   ]
  },
  {
   "cell_type": "code",
   "execution_count": 55,
   "id": "95b8e857-6bbb-41ce-b1d6-5905133c272c",
   "metadata": {},
   "outputs": [],
   "source": [
    "def adjust_bounds(current_bounds, optimizer, confidence_level=0.95):\n",
    "    # Retrieve the observed parameters and their confidence intervals\n",
    "    observed_params = optimizer.res\n",
    "    new_bounds = {}\n",
    "    for param, (low, high) in current_bounds.items():\n",
    "        vals = [obs[\"params\"][param] for obs in observed_params]\n",
    "        mean_val, ci = np.mean(vals), np.std(vals) * norm.ppf((1 + confidence_level) / 2)\n",
    "        new_bounds[param] = (max(low, mean_val - ci), min(high, mean_val + ci))\n",
    "    return new_bounds"
   ]
  },
  {
   "cell_type": "markdown",
   "id": "3da467a7-4276-4afc-b6cc-6880714e7077",
   "metadata": {},
   "source": [
    "## Set up the Bayesian Optimizer"
   ]
  },
  {
   "cell_type": "code",
   "execution_count": 57,
   "id": "d5045081-39a4-4d3b-8f6e-da5bfb526a2c",
   "metadata": {},
   "outputs": [],
   "source": [
    "optimizer = BayesianOptimization(f=rf_evaluate, pbounds=pbounds, random_state=42)"
   ]
  },
  {
   "cell_type": "markdown",
   "id": "0adc92ea-026e-469f-9c10-b3a1a7156a01",
   "metadata": {},
   "source": [
    "## Run Bayesian Optimization with bounds adjustment and adaptive acquisition"
   ]
  },
  {
   "cell_type": "code",
   "execution_count": 59,
   "id": "ea8c52f4-2025-4947-87a1-c24f02856bb0",
   "metadata": {},
   "outputs": [
    {
     "name": "stdout",
     "output_type": "stream",
     "text": [
      "|   iter    |  target   | max_depth | min_sa... | n_esti... |\n",
      "-------------------------------------------------------------\n"
     ]
    },
    {
     "name": "stderr",
     "output_type": "stream",
     "text": [
      "INFO:root:Evaluating: n_estimators=149.07884894416696, max_depth=21.854305348131312, min_samples_split=19.11285751537849, MSE=0.2693244152040076\n"
     ]
    },
    {
     "name": "stdout",
     "output_type": "stream",
     "text": [
      "| \u001b[0m1        \u001b[0m | \u001b[0m-0.2693  \u001b[0m | \u001b[0m21.85    \u001b[0m | \u001b[0m19.11    \u001b[0m | \u001b[0m149.1    \u001b[0m |\n"
     ]
    },
    {
     "name": "stderr",
     "output_type": "stream",
     "text": [
      "INFO:root:Evaluating: n_estimators=197.3201489751336, max_depth=48.71087037887247, min_samples_split=13.383150759418465, MSE=0.2650810584494125\n"
     ]
    },
    {
     "name": "stdout",
     "output_type": "stream",
     "text": [
      "| \u001b[95m2        \u001b[0m | \u001b[95m-0.2651  \u001b[0m | \u001b[95m48.71    \u001b[0m | \u001b[95m13.38    \u001b[0m | \u001b[95m197.3    \u001b[0m |\n",
      "=============================================================\n",
      "|   iter    |  target   | max_depth | min_sa... | n_esti... |\n",
      "-------------------------------------------------------------\n"
     ]
    },
    {
     "name": "stderr",
     "output_type": "stream",
     "text": [
      "INFO:root:Evaluating: n_estimators=39.6389588638785, max_depth=31.93963178886665, min_samples_split=4.808335527963857, MSE=0.2665136432871123\n"
     ]
    },
    {
     "name": "stdout",
     "output_type": "stream",
     "text": [
      "| \u001b[0m3        \u001b[0m | \u001b[0m-0.2665  \u001b[0m | \u001b[0m31.94    \u001b[0m | \u001b[0m4.808    \u001b[0m | \u001b[0m39.64    \u001b[0m |\n"
     ]
    },
    {
     "name": "stderr",
     "output_type": "stream",
     "text": [
      "INFO:root:Evaluating: n_estimators=197.8291992377963, max_depth=49.604688258130366, min_samples_split=11.640340410240345, MSE=0.2638362138079436\n"
     ]
    },
    {
     "name": "stdout",
     "output_type": "stream",
     "text": [
      "| \u001b[95m4        \u001b[0m | \u001b[95m-0.2638  \u001b[0m | \u001b[95m49.6     \u001b[0m | \u001b[95m11.64    \u001b[0m | \u001b[95m197.8    \u001b[0m |\n",
      "=============================================================\n",
      "|   iter    |  target   | max_depth | min_sa... | n_esti... |\n",
      "-------------------------------------------------------------\n"
     ]
    },
    {
     "name": "stderr",
     "output_type": "stream",
     "text": [
      "INFO:root:Evaluating: n_estimators=124.21185223120968, max_depth=7.613762547568976, min_samples_split=17.591170623948834, MSE=0.3598067207032641\n"
     ]
    },
    {
     "name": "stdout",
     "output_type": "stream",
     "text": [
      "| \u001b[0m5        \u001b[0m | \u001b[0m-0.3598  \u001b[0m | \u001b[0m7.614    \u001b[0m | \u001b[0m17.59    \u001b[0m | \u001b[0m124.2    \u001b[0m |\n"
     ]
    },
    {
     "name": "stderr",
     "output_type": "stream",
     "text": [
      "INFO:root:Evaluating: n_estimators=168.6415249529784, max_depth=38.09876300307687, min_samples_split=4.660425080171462, MSE=0.2607058571488726\n"
     ]
    },
    {
     "name": "stdout",
     "output_type": "stream",
     "text": [
      "| \u001b[95m6        \u001b[0m | \u001b[95m-0.2607  \u001b[0m | \u001b[95m38.1     \u001b[0m | \u001b[95m4.66     \u001b[0m | \u001b[95m168.6    \u001b[0m |\n",
      "=============================================================\n",
      "|   iter    |  target   | max_depth | min_sa... | n_esti... |\n",
      "-------------------------------------------------------------\n"
     ]
    },
    {
     "name": "stderr",
     "output_type": "stream",
     "text": [
      "INFO:root:Evaluating: n_estimators=194.2828719107789, max_depth=36.86326600082205, min_samples_split=2.370520897324444, MSE=0.2606021912853653\n"
     ]
    },
    {
     "name": "stdout",
     "output_type": "stream",
     "text": [
      "| \u001b[95m7        \u001b[0m | \u001b[95m-0.2606  \u001b[0m | \u001b[95m36.86    \u001b[0m | \u001b[95m2.371    \u001b[0m | \u001b[95m194.3    \u001b[0m |\n"
     ]
    },
    {
     "name": "stderr",
     "output_type": "stream",
     "text": [
      "INFO:root:Evaluating: n_estimators=182.85619503292125, max_depth=5.0, min_samples_split=20.0, MSE=0.444681609805263\n"
     ]
    },
    {
     "name": "stdout",
     "output_type": "stream",
     "text": [
      "| \u001b[0m8        \u001b[0m | \u001b[0m-0.4447  \u001b[0m | \u001b[0m5.0      \u001b[0m | \u001b[0m20.0     \u001b[0m | \u001b[0m182.9    \u001b[0m |\n",
      "=============================================================\n",
      "|   iter    |  target   | max_depth | min_sa... | n_esti... |\n",
      "-------------------------------------------------------------\n"
     ]
    },
    {
     "name": "stderr",
     "output_type": "stream",
     "text": [
      "INFO:root:Evaluating: n_estimators=44.54674376934912, max_depth=42.45991883601898, min_samples_split=5.822103992208971, MSE=0.26518329585271455\n"
     ]
    },
    {
     "name": "stdout",
     "output_type": "stream",
     "text": [
      "| \u001b[0m9        \u001b[0m | \u001b[0m-0.2652  \u001b[0m | \u001b[0m42.46    \u001b[0m | \u001b[0m5.822    \u001b[0m | \u001b[0m44.55    \u001b[0m |\n"
     ]
    },
    {
     "name": "stderr",
     "output_type": "stream",
     "text": [
      "INFO:root:Evaluating: n_estimators=144.22091405193277, max_depth=49.947483452034895, min_samples_split=19.5619102414315, MSE=0.26919271760766417\n"
     ]
    },
    {
     "name": "stdout",
     "output_type": "stream",
     "text": [
      "| \u001b[0m10       \u001b[0m | \u001b[0m-0.2692  \u001b[0m | \u001b[0m49.95    \u001b[0m | \u001b[0m19.56    \u001b[0m | \u001b[0m144.2    \u001b[0m |\n",
      "=============================================================\n",
      "|   iter    |  target   | max_depth | min_sa... | n_esti... |\n",
      "-------------------------------------------------------------\n"
     ]
    },
    {
     "name": "stderr",
     "output_type": "stream",
     "text": [
      "INFO:root:Evaluating: n_estimators=109.70372201012519, max_depth=13.253202943404522, min_samples_split=7.476360373271679, MSE=0.2693374156262678\n"
     ]
    },
    {
     "name": "stdout",
     "output_type": "stream",
     "text": [
      "| \u001b[0m11       \u001b[0m | \u001b[0m-0.2693  \u001b[0m | \u001b[0m13.25    \u001b[0m | \u001b[0m7.476    \u001b[0m | \u001b[0m109.7    \u001b[0m |\n"
     ]
    },
    {
     "name": "stderr",
     "output_type": "stream",
     "text": [
      "INFO:root:Evaluating: n_estimators=86.02175389514696, max_depth=23.75463262843808, min_samples_split=2.0, MSE=0.2617948323858953\n"
     ]
    },
    {
     "name": "stdout",
     "output_type": "stream",
     "text": [
      "| \u001b[0m12       \u001b[0m | \u001b[0m-0.2618  \u001b[0m | \u001b[0m23.75    \u001b[0m | \u001b[0m2.0      \u001b[0m | \u001b[0m86.02    \u001b[0m |\n",
      "=============================================================\n",
      "|   iter    |  target   | max_depth | min_sa... | n_esti... |\n",
      "-------------------------------------------------------------\n"
     ]
    },
    {
     "name": "stderr",
     "output_type": "stream",
     "text": [
      "INFO:root:Evaluating: n_estimators=126.2520499972521, max_depth=24.43752583889521, min_samples_split=7.242124523564755, MSE=0.26222416680485905\n"
     ]
    },
    {
     "name": "stdout",
     "output_type": "stream",
     "text": [
      "| \u001b[0m13       \u001b[0m | \u001b[0m-0.2622  \u001b[0m | \u001b[0m24.44    \u001b[0m | \u001b[0m7.242    \u001b[0m | \u001b[0m126.3    \u001b[0m |\n"
     ]
    },
    {
     "name": "stderr",
     "output_type": "stream",
     "text": [
      "INFO:root:Evaluating: n_estimators=109.68388824600912, max_depth=44.16096623361642, min_samples_split=2.0, MSE=0.26135356190337955\n"
     ]
    },
    {
     "name": "stdout",
     "output_type": "stream",
     "text": [
      "| \u001b[0m14       \u001b[0m | \u001b[0m-0.2614  \u001b[0m | \u001b[0m44.16    \u001b[0m | \u001b[0m2.0      \u001b[0m | \u001b[0m109.7    \u001b[0m |\n",
      "=============================================================\n",
      "|   iter    |  target   | max_depth | min_sa... | n_esti... |\n",
      "-------------------------------------------------------------\n"
     ]
    },
    {
     "name": "stderr",
     "output_type": "stream",
     "text": [
      "INFO:root:Evaluating: n_estimators=79.60875022580143, max_depth=11.277223729341882, min_samples_split=7.258603673633926, MSE=0.28198647594242904\n"
     ]
    },
    {
     "name": "stdout",
     "output_type": "stream",
     "text": [
      "| \u001b[0m15       \u001b[0m | \u001b[0m-0.282   \u001b[0m | \u001b[0m11.28    \u001b[0m | \u001b[0m7.259    \u001b[0m | \u001b[0m79.61    \u001b[0m |\n"
     ]
    },
    {
     "name": "stderr",
     "output_type": "stream",
     "text": [
      "INFO:root:Evaluating: n_estimators=78.83082810056791, max_depth=50.0, min_samples_split=20.0, MSE=0.27134962872743185\n"
     ]
    },
    {
     "name": "stdout",
     "output_type": "stream",
     "text": [
      "| \u001b[0m16       \u001b[0m | \u001b[0m-0.2713  \u001b[0m | \u001b[0m50.0     \u001b[0m | \u001b[0m20.0     \u001b[0m | \u001b[0m78.83    \u001b[0m |\n",
      "=============================================================\n",
      "|   iter    |  target   | max_depth | min_sa... | n_esti... |\n",
      "-------------------------------------------------------------\n"
     ]
    },
    {
     "name": "stderr",
     "output_type": "stream",
     "text": [
      "INFO:root:Evaluating: n_estimators=47.93801861008835, max_depth=25.523149289766618, min_samples_split=16.133167305074245, MSE=0.26986108765216177\n"
     ]
    },
    {
     "name": "stdout",
     "output_type": "stream",
     "text": [
      "| \u001b[0m17       \u001b[0m | \u001b[0m-0.2699  \u001b[0m | \u001b[0m25.52    \u001b[0m | \u001b[0m16.13    \u001b[0m | \u001b[0m47.94    \u001b[0m |\n"
     ]
    },
    {
     "name": "stderr",
     "output_type": "stream",
     "text": [
      "INFO:root:Evaluating: n_estimators=10.0, max_depth=50.0, min_samples_split=20.0, MSE=0.28706052754429595\n"
     ]
    },
    {
     "name": "stdout",
     "output_type": "stream",
     "text": [
      "| \u001b[0m18       \u001b[0m | \u001b[0m-0.2871  \u001b[0m | \u001b[0m50.0     \u001b[0m | \u001b[0m20.0     \u001b[0m | \u001b[0m10.0     \u001b[0m |\n",
      "=============================================================\n",
      "|   iter    |  target   | max_depth | min_sa... | n_esti... |\n",
      "-------------------------------------------------------------\n"
     ]
    },
    {
     "name": "stderr",
     "output_type": "stream",
     "text": [
      "INFO:root:Evaluating: n_estimators=18.825578416799566, max_depth=28.140549728612523, min_samples_split=12.663462239516765, MSE=0.2752076778119653\n"
     ]
    },
    {
     "name": "stdout",
     "output_type": "stream",
     "text": [
      "| \u001b[0m19       \u001b[0m | \u001b[0m-0.2752  \u001b[0m | \u001b[0m28.14    \u001b[0m | \u001b[0m12.66    \u001b[0m | \u001b[0m18.83    \u001b[0m |\n"
     ]
    },
    {
     "name": "stderr",
     "output_type": "stream",
     "text": [
      "INFO:root:Evaluating: n_estimators=143.44020668436477, max_depth=37.010283130035894, min_samples_split=2.0, MSE=0.26077978308831107\n"
     ]
    },
    {
     "name": "stdout",
     "output_type": "stream",
     "text": [
      "| \u001b[0m20       \u001b[0m | \u001b[0m-0.2608  \u001b[0m | \u001b[0m37.01    \u001b[0m | \u001b[0m2.0      \u001b[0m | \u001b[0m143.4    \u001b[0m |\n",
      "=============================================================\n"
     ]
    }
   ],
   "source": [
    "start_time = time.time()\n",
    "for i in range(10):  # Initial 10 random points\n",
    "    optimizer.maximize(init_points=1, n_iter=1)\n",
    "    pbounds = adjust_bounds(pbounds, optimizer)"
   ]
  },
  {
   "cell_type": "markdown",
   "id": "591481b6-555c-4cd1-9a8f-7663e2949eed",
   "metadata": {},
   "source": [
    "## Run Bayesian optimization with the narrowed bounds for the rest of the iterations"
   ]
  },
  {
   "cell_type": "code",
   "execution_count": 61,
   "id": "dc6578e7-7ac0-4b47-b19a-d62bcfe95c21",
   "metadata": {},
   "outputs": [
    {
     "name": "stdout",
     "output_type": "stream",
     "text": [
      "|   iter    |  target   | max_depth | min_sa... | n_esti... |\n",
      "-------------------------------------------------------------\n"
     ]
    },
    {
     "name": "stderr",
     "output_type": "stream",
     "text": [
      "INFO:root:Evaluating: n_estimators=29.167310740465034, max_depth=5.622827870591158, min_samples_split=2.476399423075649, MSE=0.44520442440207597\n"
     ]
    },
    {
     "name": "stdout",
     "output_type": "stream",
     "text": [
      "| \u001b[0m21       \u001b[0m | \u001b[0m-0.4452  \u001b[0m | \u001b[0m5.623    \u001b[0m | \u001b[0m2.476    \u001b[0m | \u001b[0m29.17    \u001b[0m |\n"
     ]
    },
    {
     "name": "stderr",
     "output_type": "stream",
     "text": [
      "INFO:root:Evaluating: n_estimators=100.81575405752507, max_depth=32.96731378847348, min_samples_split=20.0, MSE=0.27027542314949143\n"
     ]
    },
    {
     "name": "stdout",
     "output_type": "stream",
     "text": [
      "| \u001b[0m22       \u001b[0m | \u001b[0m-0.2703  \u001b[0m | \u001b[0m32.97    \u001b[0m | \u001b[0m20.0     \u001b[0m | \u001b[0m100.8    \u001b[0m |\n"
     ]
    },
    {
     "name": "stderr",
     "output_type": "stream",
     "text": [
      "INFO:root:Evaluating: n_estimators=169.16281995092103, max_depth=49.338853476787186, min_samples_split=19.85685680795061, MSE=0.2692165689808488\n"
     ]
    },
    {
     "name": "stdout",
     "output_type": "stream",
     "text": [
      "| \u001b[0m23       \u001b[0m | \u001b[0m-0.2692  \u001b[0m | \u001b[0m49.34    \u001b[0m | \u001b[0m19.86    \u001b[0m | \u001b[0m169.2    \u001b[0m |\n"
     ]
    },
    {
     "name": "stderr",
     "output_type": "stream",
     "text": [
      "INFO:root:Evaluating: n_estimators=33.38136884883099, max_depth=42.356468700773235, min_samples_split=20.0, MSE=0.27554012542139045\n"
     ]
    },
    {
     "name": "stdout",
     "output_type": "stream",
     "text": [
      "| \u001b[0m24       \u001b[0m | \u001b[0m-0.2755  \u001b[0m | \u001b[0m42.36    \u001b[0m | \u001b[0m20.0     \u001b[0m | \u001b[0m33.38    \u001b[0m |\n"
     ]
    },
    {
     "name": "stderr",
     "output_type": "stream",
     "text": [
      "INFO:root:Evaluating: n_estimators=68.0498509056359, max_depth=39.774718643611564, min_samples_split=2.625213667914733, MSE=0.26355272565046317\n"
     ]
    },
    {
     "name": "stdout",
     "output_type": "stream",
     "text": [
      "| \u001b[0m25       \u001b[0m | \u001b[0m-0.2636  \u001b[0m | \u001b[0m39.77    \u001b[0m | \u001b[0m2.625    \u001b[0m | \u001b[0m68.05    \u001b[0m |\n"
     ]
    },
    {
     "name": "stderr",
     "output_type": "stream",
     "text": [
      "INFO:root:Evaluating: n_estimators=119.84244505119077, max_depth=50.0, min_samples_split=20.0, MSE=0.2700106589977128\n"
     ]
    },
    {
     "name": "stdout",
     "output_type": "stream",
     "text": [
      "| \u001b[0m26       \u001b[0m | \u001b[0m-0.27    \u001b[0m | \u001b[0m50.0     \u001b[0m | \u001b[0m20.0     \u001b[0m | \u001b[0m119.8    \u001b[0m |\n"
     ]
    },
    {
     "name": "stderr",
     "output_type": "stream",
     "text": [
      "INFO:root:Evaluating: n_estimators=20.5883887965211, max_depth=50.0, min_samples_split=2.0, MSE=0.27356388741701776\n"
     ]
    },
    {
     "name": "stdout",
     "output_type": "stream",
     "text": [
      "| \u001b[0m27       \u001b[0m | \u001b[0m-0.2736  \u001b[0m | \u001b[0m50.0     \u001b[0m | \u001b[0m2.0      \u001b[0m | \u001b[0m20.59    \u001b[0m |\n"
     ]
    },
    {
     "name": "stderr",
     "output_type": "stream",
     "text": [
      "INFO:root:Evaluating: n_estimators=177.8754015366121, max_depth=49.356830177904726, min_samples_split=2.1292783098874155, MSE=0.2605631347592448\n"
     ]
    },
    {
     "name": "stdout",
     "output_type": "stream",
     "text": [
      "| \u001b[95m28       \u001b[0m | \u001b[95m-0.2606  \u001b[0m | \u001b[95m49.36    \u001b[0m | \u001b[95m2.129    \u001b[0m | \u001b[95m177.9    \u001b[0m |\n"
     ]
    },
    {
     "name": "stderr",
     "output_type": "stream",
     "text": [
      "INFO:root:Evaluating: n_estimators=70.41880686949321, max_depth=28.968397946350308, min_samples_split=20.0, MSE=0.2716820684136928\n"
     ]
    },
    {
     "name": "stdout",
     "output_type": "stream",
     "text": [
      "| \u001b[0m29       \u001b[0m | \u001b[0m-0.2717  \u001b[0m | \u001b[0m28.97    \u001b[0m | \u001b[0m20.0     \u001b[0m | \u001b[0m70.42    \u001b[0m |\n"
     ]
    },
    {
     "name": "stderr",
     "output_type": "stream",
     "text": [
      "INFO:root:Evaluating: n_estimators=88.81207312361201, max_depth=50.0, min_samples_split=2.0, MSE=0.26221323670336505\n"
     ]
    },
    {
     "name": "stdout",
     "output_type": "stream",
     "text": [
      "| \u001b[0m30       \u001b[0m | \u001b[0m-0.2622  \u001b[0m | \u001b[0m50.0     \u001b[0m | \u001b[0m2.0      \u001b[0m | \u001b[0m88.81    \u001b[0m |\n"
     ]
    },
    {
     "name": "stderr",
     "output_type": "stream",
     "text": [
      "INFO:root:Evaluating: n_estimators=106.72702273989987, max_depth=26.998822598737497, min_samples_split=2.0, MSE=0.2612033266348336\n"
     ]
    },
    {
     "name": "stdout",
     "output_type": "stream",
     "text": [
      "| \u001b[0m31       \u001b[0m | \u001b[0m-0.2612  \u001b[0m | \u001b[0m27.0     \u001b[0m | \u001b[0m2.0      \u001b[0m | \u001b[0m106.7    \u001b[0m |\n"
     ]
    },
    {
     "name": "stderr",
     "output_type": "stream",
     "text": [
      "INFO:root:Evaluating: n_estimators=127.42394057568508, max_depth=49.98369341455228, min_samples_split=3.301706301553182, MSE=0.2609477697316934\n"
     ]
    },
    {
     "name": "stdout",
     "output_type": "stream",
     "text": [
      "| \u001b[0m32       \u001b[0m | \u001b[0m-0.2609  \u001b[0m | \u001b[0m49.98    \u001b[0m | \u001b[0m3.302    \u001b[0m | \u001b[0m127.4    \u001b[0m |\n"
     ]
    },
    {
     "name": "stderr",
     "output_type": "stream",
     "text": [
      "INFO:root:Evaluating: n_estimators=57.2580360834954, max_depth=50.0, min_samples_split=20.0, MSE=0.2714074666894121\n"
     ]
    },
    {
     "name": "stdout",
     "output_type": "stream",
     "text": [
      "| \u001b[0m33       \u001b[0m | \u001b[0m-0.2714  \u001b[0m | \u001b[0m50.0     \u001b[0m | \u001b[0m20.0     \u001b[0m | \u001b[0m57.26    \u001b[0m |\n"
     ]
    },
    {
     "name": "stderr",
     "output_type": "stream",
     "text": [
      "INFO:root:Evaluating: n_estimators=155.19734332259125, max_depth=49.786548786484694, min_samples_split=2.3630610548978015, MSE=0.26071742892819466\n"
     ]
    },
    {
     "name": "stdout",
     "output_type": "stream",
     "text": [
      "| \u001b[0m34       \u001b[0m | \u001b[0m-0.2607  \u001b[0m | \u001b[0m49.79    \u001b[0m | \u001b[0m2.363    \u001b[0m | \u001b[0m155.2    \u001b[0m |\n"
     ]
    },
    {
     "name": "stderr",
     "output_type": "stream",
     "text": [
      "INFO:root:Evaluating: n_estimators=149.0473939208446, max_depth=18.753976747929663, min_samples_split=2.0, MSE=0.26113833600298314\n"
     ]
    },
    {
     "name": "stdout",
     "output_type": "stream",
     "text": [
      "| \u001b[0m35       \u001b[0m | \u001b[0m-0.2611  \u001b[0m | \u001b[0m18.75    \u001b[0m | \u001b[0m2.0      \u001b[0m | \u001b[0m149.0    \u001b[0m |\n"
     ]
    },
    {
     "name": "stderr",
     "output_type": "stream",
     "text": [
      "INFO:root:Evaluating: n_estimators=94.72050459039768, max_depth=5.553980228840987, min_samples_split=2.1001889730682213, MSE=0.44462406482607164\n"
     ]
    },
    {
     "name": "stdout",
     "output_type": "stream",
     "text": [
      "| \u001b[0m36       \u001b[0m | \u001b[0m-0.4446  \u001b[0m | \u001b[0m5.554    \u001b[0m | \u001b[0m2.1      \u001b[0m | \u001b[0m94.72    \u001b[0m |\n"
     ]
    },
    {
     "name": "stderr",
     "output_type": "stream",
     "text": [
      "INFO:root:Evaluating: n_estimators=65.7922810789168, max_depth=20.652318761397787, min_samples_split=2.0, MSE=0.2629529216432064\n"
     ]
    },
    {
     "name": "stdout",
     "output_type": "stream",
     "text": [
      "| \u001b[0m37       \u001b[0m | \u001b[0m-0.263   \u001b[0m | \u001b[0m20.65    \u001b[0m | \u001b[0m2.0      \u001b[0m | \u001b[0m65.79    \u001b[0m |\n"
     ]
    },
    {
     "name": "stderr",
     "output_type": "stream",
     "text": [
      "INFO:root:Evaluating: n_estimators=64.78412343276082, max_depth=5.6943022745009175, min_samples_split=20.0, MSE=0.44481001002134846\n"
     ]
    },
    {
     "name": "stdout",
     "output_type": "stream",
     "text": [
      "| \u001b[0m38       \u001b[0m | \u001b[0m-0.4448  \u001b[0m | \u001b[0m5.694    \u001b[0m | \u001b[0m20.0     \u001b[0m | \u001b[0m64.78    \u001b[0m |\n"
     ]
    },
    {
     "name": "stderr",
     "output_type": "stream",
     "text": [
      "INFO:root:Evaluating: n_estimators=84.16094029571586, max_depth=35.25870483399639, min_samples_split=11.119104927819802, MSE=0.2650050597116085\n"
     ]
    },
    {
     "name": "stdout",
     "output_type": "stream",
     "text": [
      "| \u001b[0m39       \u001b[0m | \u001b[0m-0.265   \u001b[0m | \u001b[0m35.26    \u001b[0m | \u001b[0m11.12    \u001b[0m | \u001b[0m84.16    \u001b[0m |\n"
     ]
    },
    {
     "name": "stderr",
     "output_type": "stream",
     "text": [
      "INFO:root:Evaluating: n_estimators=132.12695591553688, max_depth=35.52217844713547, min_samples_split=20.0, MSE=0.27014344621275505\n"
     ]
    },
    {
     "name": "stdout",
     "output_type": "stream",
     "text": [
      "| \u001b[0m40       \u001b[0m | \u001b[0m-0.2701  \u001b[0m | \u001b[0m35.52    \u001b[0m | \u001b[0m20.0     \u001b[0m | \u001b[0m132.1    \u001b[0m |\n",
      "=============================================================\n"
     ]
    }
   ],
   "source": [
    "optimizer.maximize(init_points=0, n_iter=20)\n",
    "end_time = time.time()\n",
    "bayes_time = end_time - start_time"
   ]
  },
  {
   "cell_type": "markdown",
   "id": "2d614017-014a-4dd5-8c2f-774934b03410",
   "metadata": {},
   "source": [
    "## Extract best parameters and train final Bayesian optimized model"
   ]
  },
  {
   "cell_type": "code",
   "execution_count": 63,
   "id": "de3f0df9-d52e-4d7f-9925-d26500ce98ff",
   "metadata": {},
   "outputs": [
    {
     "name": "stderr",
     "output_type": "stream",
     "text": [
      "INFO:root:Best parameters from Bayesian Optimization: {'max_depth': 49, 'min_samples_split': 2, 'n_estimators': 177}\n"
     ]
    }
   ],
   "source": [
    "best_params = optimizer.max['params']\n",
    "best_params['n_estimators'] = int(best_params['n_estimators'])\n",
    "best_params['max_depth'] = int(best_params['max_depth'])\n",
    "best_params['min_samples_split'] = int(best_params['min_samples_split'])\n",
    "logging.info(f\"Best parameters from Bayesian Optimization: {best_params}\")"
   ]
  },
  {
   "cell_type": "code",
   "execution_count": 65,
   "id": "cc5711a5-47f6-4385-941c-64772b296413",
   "metadata": {},
   "outputs": [
    {
     "data": {
      "text/html": [
       "<style>#sk-container-id-2 {color: black;}#sk-container-id-2 pre{padding: 0;}#sk-container-id-2 div.sk-toggleable {background-color: white;}#sk-container-id-2 label.sk-toggleable__label {cursor: pointer;display: block;width: 100%;margin-bottom: 0;padding: 0.3em;box-sizing: border-box;text-align: center;}#sk-container-id-2 label.sk-toggleable__label-arrow:before {content: \"▸\";float: left;margin-right: 0.25em;color: #696969;}#sk-container-id-2 label.sk-toggleable__label-arrow:hover:before {color: black;}#sk-container-id-2 div.sk-estimator:hover label.sk-toggleable__label-arrow:before {color: black;}#sk-container-id-2 div.sk-toggleable__content {max-height: 0;max-width: 0;overflow: hidden;text-align: left;background-color: #f0f8ff;}#sk-container-id-2 div.sk-toggleable__content pre {margin: 0.2em;color: black;border-radius: 0.25em;background-color: #f0f8ff;}#sk-container-id-2 input.sk-toggleable__control:checked~div.sk-toggleable__content {max-height: 200px;max-width: 100%;overflow: auto;}#sk-container-id-2 input.sk-toggleable__control:checked~label.sk-toggleable__label-arrow:before {content: \"▾\";}#sk-container-id-2 div.sk-estimator input.sk-toggleable__control:checked~label.sk-toggleable__label {background-color: #d4ebff;}#sk-container-id-2 div.sk-label input.sk-toggleable__control:checked~label.sk-toggleable__label {background-color: #d4ebff;}#sk-container-id-2 input.sk-hidden--visually {border: 0;clip: rect(1px 1px 1px 1px);clip: rect(1px, 1px, 1px, 1px);height: 1px;margin: -1px;overflow: hidden;padding: 0;position: absolute;width: 1px;}#sk-container-id-2 div.sk-estimator {font-family: monospace;background-color: #f0f8ff;border: 1px dotted black;border-radius: 0.25em;box-sizing: border-box;margin-bottom: 0.5em;}#sk-container-id-2 div.sk-estimator:hover {background-color: #d4ebff;}#sk-container-id-2 div.sk-parallel-item::after {content: \"\";width: 100%;border-bottom: 1px solid gray;flex-grow: 1;}#sk-container-id-2 div.sk-label:hover label.sk-toggleable__label {background-color: #d4ebff;}#sk-container-id-2 div.sk-serial::before {content: \"\";position: absolute;border-left: 1px solid gray;box-sizing: border-box;top: 0;bottom: 0;left: 50%;z-index: 0;}#sk-container-id-2 div.sk-serial {display: flex;flex-direction: column;align-items: center;background-color: white;padding-right: 0.2em;padding-left: 0.2em;position: relative;}#sk-container-id-2 div.sk-item {position: relative;z-index: 1;}#sk-container-id-2 div.sk-parallel {display: flex;align-items: stretch;justify-content: center;background-color: white;position: relative;}#sk-container-id-2 div.sk-item::before, #sk-container-id-2 div.sk-parallel-item::before {content: \"\";position: absolute;border-left: 1px solid gray;box-sizing: border-box;top: 0;bottom: 0;left: 50%;z-index: -1;}#sk-container-id-2 div.sk-parallel-item {display: flex;flex-direction: column;z-index: 1;position: relative;background-color: white;}#sk-container-id-2 div.sk-parallel-item:first-child::after {align-self: flex-end;width: 50%;}#sk-container-id-2 div.sk-parallel-item:last-child::after {align-self: flex-start;width: 50%;}#sk-container-id-2 div.sk-parallel-item:only-child::after {width: 0;}#sk-container-id-2 div.sk-dashed-wrapped {border: 1px dashed gray;margin: 0 0.4em 0.5em 0.4em;box-sizing: border-box;padding-bottom: 0.4em;background-color: white;}#sk-container-id-2 div.sk-label label {font-family: monospace;font-weight: bold;display: inline-block;line-height: 1.2em;}#sk-container-id-2 div.sk-label-container {text-align: center;}#sk-container-id-2 div.sk-container {/* jupyter's `normalize.less` sets `[hidden] { display: none; }` but bootstrap.min.css set `[hidden] { display: none !important; }` so we also need the `!important` here to be able to override the default hidden behavior on the sphinx rendered scikit-learn.org. See: https://github.com/scikit-learn/scikit-learn/issues/21755 */display: inline-block !important;position: relative;}#sk-container-id-2 div.sk-text-repr-fallback {display: none;}</style><div id=\"sk-container-id-2\" class=\"sk-top-container\"><div class=\"sk-text-repr-fallback\"><pre>RandomForestRegressor(max_depth=49, n_estimators=177)</pre><b>In a Jupyter environment, please rerun this cell to show the HTML representation or trust the notebook. <br />On GitHub, the HTML representation is unable to render, please try loading this page with nbviewer.org.</b></div><div class=\"sk-container\" hidden><div class=\"sk-item\"><div class=\"sk-estimator sk-toggleable\"><input class=\"sk-toggleable__control sk-hidden--visually\" id=\"sk-estimator-id-2\" type=\"checkbox\" checked><label for=\"sk-estimator-id-2\" class=\"sk-toggleable__label sk-toggleable__label-arrow\">RandomForestRegressor</label><div class=\"sk-toggleable__content\"><pre>RandomForestRegressor(max_depth=49, n_estimators=177)</pre></div></div></div></div></div>"
      ],
      "text/plain": [
       "RandomForestRegressor(max_depth=49, n_estimators=177)"
      ]
     },
     "execution_count": 65,
     "metadata": {},
     "output_type": "execute_result"
    }
   ],
   "source": [
    "final_model_bayes = RandomForestRegressor(**best_params)\n",
    "final_model_bayes.fit(X_train, y_train)"
   ]
  },
  {
   "cell_type": "code",
   "execution_count": 67,
   "id": "0fa3f050-5f0c-4b41-bb47-18bfe3cc45ce",
   "metadata": {},
   "outputs": [
    {
     "name": "stderr",
     "output_type": "stream",
     "text": [
      "INFO:root:Final MSE (Bayesian Optimization): 0.25365435951547455\n"
     ]
    }
   ],
   "source": [
    "final_predictions_bayes = final_model_bayes.predict(X_test)\n",
    "final_mse_bayes = mean_squared_error(y_test, final_predictions_bayes)\n",
    "logging.info(f'Final MSE (Bayesian Optimization): {final_mse_bayes}')"
   ]
  },
  {
   "cell_type": "code",
   "execution_count": 69,
   "id": "e2288053-6ed9-4c1c-aa2e-c72a9a34c4c9",
   "metadata": {},
   "outputs": [
    {
     "name": "stderr",
     "output_type": "stream",
     "text": [
      "INFO:root:Bayesian Optimization Time: 5342.20 seconds\n"
     ]
    }
   ],
   "source": [
    "logging.info(f\"Bayesian Optimization Time: {bayes_time:.2f} seconds\")"
   ]
  },
  {
   "cell_type": "code",
   "execution_count": 129,
   "id": "4c2027bc-95a9-4682-81ea-d892064cd370",
   "metadata": {},
   "outputs": [],
   "source": [
    "import matplotlib.pyplot as plt\n",
    "import numpy as np"
   ]
  },
  {
   "cell_type": "code",
   "execution_count": 133,
   "id": "5ebe980b-7768-4ea1-af1b-292d4bbdfa2c",
   "metadata": {},
   "outputs": [],
   "source": [
    "# 1. Plot of Best Objective Function Value over Iterations\n",
    "def plot_best_mse_over_iterations(optimizer):\n",
    "    iterations = range(len(optimizer.res))\n",
    "    best_mse_values = [res['target'] for res in optimizer.res]\n",
    "    \n",
    "    plt.figure(figsize=(10, 6))\n",
    "    plt.plot(iterations, best_mse_values, marker='o', linestyle='-', color='b', label='Best MSE')\n",
    "    plt.title('Best MSE Over Iterations in Bayesian Optimization')\n",
    "    plt.xlabel('Iterations')\n",
    "    plt.ylabel('Best MSE')\n",
    "    plt.grid(True)\n",
    "    plt.legend()\n",
    "    plt.show()\n",
    "\n",
    "# 2. Hyperparameter Convergence Visualization\n",
    "def plot_hyperparameter_convergence(optimizer):\n",
    "    # Extract hyperparameter values over iterations\n",
    "    n_estimators_values = [res['params']['n_estimators'] for res in optimizer.res]\n",
    "    max_depth_values = [res['params']['max_depth'] for res in optimizer.res]\n",
    "    min_samples_split_values = [res['params']['min_samples_split'] for res in optimizer.res]\n",
    "\n",
    "    plt.figure(figsize=(14, 6))\n",
    "    \n",
    "    plt.subplot(1, 3, 1)\n",
    "    plt.plot(range(len(optimizer.res)), n_estimators_values, marker='x', color='r', label='n_estimators')\n",
    "    plt.title('n_estimators over Iterations')\n",
    "    plt.xlabel('Iterations')\n",
    "    plt.ylabel('n_estimators')\n",
    "    plt.grid(True)\n",
    "    plt.legend()\n",
    "\n",
    "    plt.subplot(1, 3, 2)\n",
    "    plt.plot(range(len(optimizer.res)), max_depth_values, marker='x', color='g', label='max_depth')\n",
    "    plt.title('max_depth over Iterations')\n",
    "    plt.xlabel('Iterations')\n",
    "    plt.ylabel('max_depth')\n",
    "    plt.grid(True)\n",
    "    plt.legend()\n",
    "\n",
    "    plt.subplot(1, 3, 3)\n",
    "    plt.plot(range(len(optimizer.res)), min_samples_split_values, marker='x', color='b', label='min_samples_split')\n",
    "    plt.title('min_samples_split over Iterations')\n",
    "    plt.xlabel('Iterations')\n",
    "    plt.ylabel('min_samples_split')\n",
    "    plt.grid(True)\n",
    "    plt.legend()\n",
    "\n",
    "    plt.tight_layout()\n",
    "    plt.show()"
   ]
  },
  {
   "cell_type": "code",
   "execution_count": 137,
   "id": "2c4bd4e3-f338-4851-b17d-9cb5a160adf8",
   "metadata": {},
   "outputs": [
    {
     "data": {
      "image/png": "[encoded data removed]",
      "text/plain": [
       "<Figure size 1000x600 with 1 Axes>"
      ]
     },
     "metadata": {},
     "output_type": "display_data"
    }
   ],
   "source": [
    "# Visualize Results\n",
    "plot_best_mse_over_iterations(optimizer)"
   ]
  },
  {
   "cell_type": "code",
   "execution_count": 139,
   "id": "5fc7ff1e-3131-48be-8199-a2535c86592b",
   "metadata": {},
   "outputs": [
    {
     "data": {
      "image/png": "[encoded data removed]",
      "text/plain": [
       "<Figure size 1400x600 with 3 Axes>"
      ]
     },
     "metadata": {},
     "output_type": "display_data"
    }
   ],
   "source": [
    "plot_hyperparameter_convergence(optimizer)"
   ]
  },
  {
   "cell_type": "markdown",
   "id": "c2b6c03a-0604-4978-8fed-76ed47320c07",
   "metadata": {},
   "source": [
    "# Grid Search Hyperparameter Tuning (for comparison)"
   ]
  },
  {
   "cell_type": "code",
   "execution_count": 81,
   "id": "02b9326a-a8d4-449b-8d31-b91d17a95cec",
   "metadata": {},
   "outputs": [],
   "source": [
    "from sklearn.ensemble import RandomForestRegressor\n",
    "from sklearn.metrics import mean_squared_error\n",
    "import itertools\n",
    "import time"
   ]
  },
  {
   "cell_type": "code",
   "execution_count": 83,
   "id": "549ca9dd-8e46-41c5-9282-3163b402b006",
   "metadata": {},
   "outputs": [],
   "source": [
    "# Define the parameter grid for Grid Search\n",
    "param_grid = {\n",
    "    'n_estimators': [10, 50, 100, 150, 200],\n",
    "    'max_depth': [5, 10, 20, 30, 40, 50],\n",
    "    'min_samples_split': [2, 5, 10, 15, 20]\n",
    "}"
   ]
  },
  {
   "cell_type": "code",
   "execution_count": 85,
   "id": "2009cd5f-5c31-43df-8b75-0b2d3d80bc19",
   "metadata": {},
   "outputs": [],
   "source": [
    "# Generate all possible combinations of parameters from the grid\n",
    "param_combinations = list(itertools.product(\n",
    "    param_grid['n_estimators'],\n",
    "    param_grid['max_depth'],\n",
    "    param_grid['min_samples_split']\n",
    "))"
   ]
  },
  {
   "cell_type": "code",
   "execution_count": 87,
   "id": "82cb61b4-6345-49fb-8c22-688737464406",
   "metadata": {},
   "outputs": [],
   "source": [
    "# Initialize variables to track the best parameters and MSE\n",
    "best_mse_grid = float('inf')\n",
    "best_params_grid = None"
   ]
  },
  {
   "cell_type": "code",
   "execution_count": 89,
   "id": "3c3cf1b2-aa29-4671-9b93-d8fef59ef822",
   "metadata": {},
   "outputs": [],
   "source": [
    "# Start timing for Grid Search\n",
    "start_time_grid = time.time()\n",
    "\n",
    "# Iterate over all combinations of parameters\n",
    "for params in param_combinations:\n",
    "    # Unpack the parameters\n",
    "    n_estimators, max_depth, min_samples_split = params\n",
    "    model = RandomForestRegressor(\n",
    "        n_estimators=n_estimators,\n",
    "        max_depth=max_depth,\n",
    "        min_samples_split=min_samples_split,\n",
    "        random_state=42\n",
    "    )\n",
    "\n",
    "    # Train the model with the current parameter combination\n",
    "    model.fit(X_train, y_train)\n",
    "\n",
    "    # Predict and calculate MSE on the test set\n",
    "    predictions = model.predict(X_test)\n",
    "    mse = mean_squared_error(y_test, predictions)\n",
    "\n",
    "    # Track the best parameters and MSE\n",
    "    if mse < best_mse_grid:\n",
    "        best_mse_grid = mse\n",
    "        best_params_grid = {\n",
    "            'n_estimators': n_estimators,\n",
    "            'max_depth': max_depth,\n",
    "            'min_samples_split': min_samples_split\n",
    "        }\n",
    "\n",
    "# End timing for Grid Search\n",
    "end_time_grid = time.time()\n",
    "grid_search_time = end_time_grid - start_time_grid"
   ]
  },
  {
   "cell_type": "code",
   "execution_count": 106,
   "id": "0f1485ba-1989-4c5b-a87b-1bc8238e8fdd",
   "metadata": {},
   "outputs": [
    {
     "name": "stdout",
     "output_type": "stream",
     "text": [
      "Best Parameters (Grid Search without CV): {'n_estimators': 200, 'max_depth': 40, 'min_samples_split': 2}\n",
      "Best MSE (Grid Search without CV): 0.25395595827057227\n"
     ]
    }
   ],
   "source": [
    "# Display the results\n",
    "print(f\"Best Parameters (Grid Search without CV): {best_params_grid}\")\n",
    "print(f\"Best MSE (Grid Search without CV): {best_mse_grid}\")"
   ]
  },
  {
   "cell_type": "code",
   "execution_count": null,
   "id": "60d728dd-54af-4b5e-8e31-44cf601e7c75",
   "metadata": {},
   "outputs": [],
   "source": []
  }
 ],
 "metadata": {
  "kernelspec": {
   "display_name": "Python (base)",
   "language": "python",
   "name": "base"
  },
  "language_info": {
   "codemirror_mode": {
    "name": "ipython",
    "version": 3
   },
   "file_extension": ".py",
   "mimetype": "text/x-python",
   "name": "python",
   "nbconvert_exporter": "python",
   "pygments_lexer": "ipython3",
   "version": "3.8.20"
  }
 },
 "nbformat": 4,
 "nbformat_minor": 5
}
